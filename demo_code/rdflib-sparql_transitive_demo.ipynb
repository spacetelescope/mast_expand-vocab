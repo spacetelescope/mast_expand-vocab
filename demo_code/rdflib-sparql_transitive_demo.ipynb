{
 "cells": [
  {
   "cell_type": "code",
   "execution_count": 1,
   "id": "2dbb1e69",
   "metadata": {},
   "outputs": [],
   "source": [
    "import rdflib"
   ]
  },
  {
   "cell_type": "code",
   "execution_count": 2,
   "id": "6d105f7d",
   "metadata": {},
   "outputs": [],
   "source": [
    "#We're going to look for all the parents, grandparents, great-grandparents+ of the \"Time series images\" concept.\n",
    "#For now, we'll filter on prefLabel, though it would probably be better to filter on URI.\n",
    "tag = '\\\"Time series images\\\"'"
   ]
  },
  {
   "cell_type": "code",
   "execution_count": 3,
   "id": "298d83bd",
   "metadata": {},
   "outputs": [
    {
     "name": "stdout",
     "output_type": "stream",
     "text": [
      "https://archive.stsci.edu/rdf/hlsp-ptype#Images\n",
      "https://archive.stsci.edu/rdf/hlsp-ptype#Time_series\n",
      "https://archive.stsci.edu/rdf/hlsp-ptype#Time_domain_data\n"
     ]
    }
   ],
   "source": [
    "# Create a graph from the vocabulary file.\n",
    "g = rdflib.Graph().parse(\"product_vocabs/hlsp-ptype.rdf\")\n",
    "\n",
    "# Query the data in the graph g using SPARQL\n",
    "q = \"\"\"\n",
    "    PREFIX skos: <http://www.w3.org/2004/02/skos/core#>\n",
    "    PREFIX rdfs: <http://www.w3.org/2000/01/rdf-schema#>\n",
    "    SELECT ?ancestor\n",
    "    WHERE {\n",
    "        ?x rdf:type skos:Concept .\n",
    "        ?x skos:prefLabel ?prefLabel .\n",
    "        ?x skos:broader+ ?ancestor .\n",
    "        FILTER (?prefLabel = \"\"\"+tag+\"\"\") .\n",
    "    }\n",
    "\"\"\"\n",
    "# Explanation:\n",
    "# ?x rdf:type skos:Concept . #where variable ?x has the type <skos:Concept>\n",
    "# ?x skos:prefLabel ?prefLabel . #define the variable ?prefLabel as the skos:prefLabel assigned to x\n",
    "# ?x skos:broader+ ?ancestor . #define the variable ?ancestor as any concept transitively broader than variable ?x\n",
    "# FILTER (?prefLabel = \"\"\"+tag+\"\"\") . #Filter on the concept we selected using the python variable <tag>.\n",
    "\n",
    "# The important thing here is the plus sign in \"skos:broader+\", which travels up the tree using SPARQL propery paths. \n",
    "# This is equivelant to finding all the skos:broaderTransitive relationships entailed by all the skos:broader relationships.\n",
    "# If you instead used \"skos:broader\", you would only get the direct parents, and not the grandparents etc.\n",
    "# Another alternative would be to use \"skos:broader*\", which is similar to \"skos:broader+\" but will also return the original concept that we filtered on.\n",
    "\n",
    "# Apply the query to the graph and iterate through results\n",
    "for r in g.query(q):\n",
    "    print(r[\"ancestor\"])\n",
    "    \n",
    "# The output is a list of all the concepts broader than <tag> (\"Time series images\"), all the way up the tree!"
   ]
  },
  {
   "cell_type": "markdown",
   "id": "4f397b43",
   "metadata": {},
   "source": [
    "Now we'll do the same thing, but for descendants instead of ancestors. Let's look up all descendents of the tag \"Time series\":"
   ]
  },
  {
   "cell_type": "code",
   "execution_count": 4,
   "id": "f88af978",
   "metadata": {},
   "outputs": [],
   "source": [
    "tag = '\\\"Time series\\\"'"
   ]
  },
  {
   "cell_type": "code",
   "execution_count": 5,
   "id": "6620a4e4",
   "metadata": {},
   "outputs": [
    {
     "name": "stdout",
     "output_type": "stream",
     "text": [
      "https://archive.stsci.edu/rdf/hlsp-ptype#Light_curves\n",
      "https://archive.stsci.edu/rdf/hlsp-ptype#Spectral_line_light_curves\n",
      "https://archive.stsci.edu/rdf/hlsp-ptype#Time_series_images\n",
      "https://archive.stsci.edu/rdf/hlsp-ptype#Time_series_spectra\n",
      "https://archive.stsci.edu/rdf/hlsp-ptype#Velocity-time_curves\n"
     ]
    }
   ],
   "source": [
    "g = rdflib.Graph().parse(\"product_vocabs/hlsp-ptype.rdf\")\n",
    "\n",
    "q = \"\"\"\n",
    "    PREFIX skos: <http://www.w3.org/2004/02/skos/core#>\n",
    "    PREFIX rdfs: <http://www.w3.org/2000/01/rdf-schema#>\n",
    "    SELECT ?descendant\n",
    "    WHERE {\n",
    "        ?x rdf:type skos:Concept .\n",
    "        ?x skos:prefLabel ?prefLabel .\n",
    "        ?x ^skos:broader+ ?descendant .\n",
    "        FILTER (?prefLabel = \"\"\"+tag+\"\"\") .\n",
    "    }\n",
    "\"\"\"\n",
    "# The only non-cosmetic change I made was changing \"skos:broader+\" to \"^skos:broader+\", which reverses the direction of the path being followed.\n",
    "for r in g.query(q):\n",
    "    print(r[\"descendant\"])\n",
    "    \n",
    "# The output is a list of all the concepts narrower than <tag> (\"Time series\"), all the way down the tree!"
   ]
  }
 ],
 "metadata": {
  "kernelspec": {
   "display_name": "Python 3 (ipykernel)",
   "language": "python",
   "name": "python3"
  },
  "language_info": {
   "codemirror_mode": {
    "name": "ipython",
    "version": 3
   },
   "file_extension": ".py",
   "mimetype": "text/x-python",
   "name": "python",
   "nbconvert_exporter": "python",
   "pygments_lexer": "ipython3",
   "version": "3.9.7"
  }
 },
 "nbformat": 4,
 "nbformat_minor": 5
}
